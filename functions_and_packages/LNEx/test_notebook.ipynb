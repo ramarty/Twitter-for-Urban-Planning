{
 "cells": [
  {
   "cell_type": "markdown",
   "metadata": {},
   "source": [
    "Copyright 2017 Hussein S. Al-Olimat, hussein@knoesis.org\n",
    "\n",
    "This software is released under the GNU Affero General Public License (AGPL) v3.0 License."
   ]
  },
  {
   "cell_type": "markdown",
   "metadata": {},
   "source": [
    "# pytest is an example usecase of using LNEx in Python 3"
   ]
  },
  {
   "cell_type": "code",
   "execution_count": null,
   "metadata": {},
   "outputs": [],
   "source": [
    "!pip install wordsegment\n",
    "!pip install shapely\n",
    "!pip install nltk\n",
    "!pip install elasticsearch\n",
    "!pip install elasticsearch_dsl\n",
    "!pip install geopy"
   ]
  },
  {
   "cell_type": "code",
   "execution_count": 1,
   "metadata": {},
   "outputs": [],
   "source": [
    "import json, re\n",
    "from shapely.geometry import MultiPoint\n",
    "\n",
    "import sys \n",
    "sys.path.append(\"LNEx\")\n",
    "import LNEx as lnex"
   ]
  },
  {
   "cell_type": "code",
   "execution_count": 2,
   "metadata": {},
   "outputs": [],
   "source": [
    "def read_tweets():\n",
    "    tweets_file = \"_Data/sample_tweets.txt\"\n",
    "    # read tweets from file to list\n",
    "    with open(tweets_file) as f:\n",
    "        tweets = f.read().splitlines()\n",
    "    return tweets\n",
    "\n",
    "def init_using_elasticindex(bb, cache, augmentType, dataset, capital_word_shape):\n",
    "    lnex.elasticindex(conn_string='localhost:9200', index_name=\"photon\")\n",
    "\n",
    "    geo_info = lnex.initialize( bb, augmentType=augmentType,\n",
    "                                    cache=cache,\n",
    "                                    dataset_name=dataset,\n",
    "                                    capital_word_shape=capital_word_shape)\n",
    "    return geo_info"
   ]
  },
  {
   "cell_type": "code",
   "execution_count": 3,
   "metadata": {},
   "outputs": [
    {
     "name": "stdout",
     "output_type": "stream",
     "text": [
      "Initializing LNEx ...\n",
      "Done Initialization ...\n"
     ]
    }
   ],
   "source": [
    "bbs = { \"chennai\": [12.74, 80.066986084, 13.2823848224, 80.3464508057],\n",
    "        \"louisiana\": [29.4563, -93.3453, 31.4521, -89.5276],\n",
    "        \"houston\": [29.4778611958, -95.975189209, 30.1463147381, -94.8889160156]}\n",
    "\n",
    "dataset = \"chennai\"\n",
    "\n",
    "geo_info = init_using_elasticindex(bbs[dataset], cache=False, augmentType=\"HP\", \n",
    "                                   dataset=dataset, capital_word_shape=False)"
   ]
  },
  {
   "cell_type": "code",
   "execution_count": 4,
   "metadata": {
    "scrolled": false
   },
   "outputs": [
    {
     "name": "stdout",
     "output_type": "stream",
     "text": [
      "tambaram (58, 66) tambaram ['4947', '11313']\n",
      "Mudichur (44, 52) mudichur ['15078']\n",
      "Chennai (1, 8) chennai ['3694', '15962']\n",
      "##################################################\n",
      "Jones road (83, 93) jones road ['4608', '8037']\n",
      "Chennai (1, 8) chennai ['3694', '15962']\n",
      "##################################################\n",
      "Chennai Central (38, 53) chennai central ['11223', '10413']\n",
      "Chennai Egmore (56, 70) chennai egmore ['6101', '9390']\n",
      "Chennai (1, 8) chennai ['3694', '15962']\n",
      "##################################################\n",
      "Chennai (100, 107) chennai ['3694', '15962']\n",
      "Water tank road (39, 54) water tank rd ['7239']\n",
      "Chennai (85, 92) chennai ['3694', '15962']\n",
      "New Avadi road (20, 34) new avadi road ['3150', '15285', '574', '15295', '2222', '523', '14418', '460', '9150']\n",
      "##################################################\n",
      "Postal colony (77, 90) postal colony ['16011', '7695', '8311']\n",
      "west mambalam (92, 105) west mambalam ['14424']\n",
      "Chennai (107, 114) chennai ['3694', '15962']\n",
      "##################################################\n",
      "mambalam (31, 39) mambalam ['4878']\n",
      "chennai (22, 29) chennai ['3694', '15962']\n",
      "new avadi rd (8, 20) new avadi road ['3150', '15285', '574', '15295', '2222', '523', '14418', '460', '9150']\n",
      "chennai (41, 48) chennai ['3694', '15962']\n",
      "##################################################\n",
      "##################################################\n",
      "avadi (4, 9) avadi ['14647', '3050']\n",
      "##################################################\n",
      "pathur (21, 27) pathur ['16206']\n",
      "##################################################\n"
     ]
    }
   ],
   "source": [
    "for tweet in read_tweets():\n",
    "    for output in lnex.extract(tweet):\n",
    "        print(output[0], output[1], output[2], output[3][\"main\"])\n",
    "    print(\"#\"*50)"
   ]
  },
  {
   "cell_type": "code",
   "execution_count": null,
   "metadata": {},
   "outputs": [],
   "source": []
  }
 ],
 "metadata": {
  "kernelspec": {
   "display_name": "Python 3",
   "language": "python",
   "name": "python3"
  },
  "language_info": {
   "codemirror_mode": {
    "name": "ipython",
    "version": 3
   },
   "file_extension": ".py",
   "mimetype": "text/x-python",
   "name": "python",
   "nbconvert_exporter": "python",
   "pygments_lexer": "ipython3",
   "version": "3.6.6"
  }
 },
 "nbformat": 4,
 "nbformat_minor": 2
}
